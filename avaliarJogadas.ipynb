{
 "cells": [
  {
   "cell_type": "code",
   "execution_count": 20,
   "metadata": {},
   "outputs": [],
   "source": [
    "import pandas as pd\n",
    "import re\n",
    "import seaborn as sns"
   ]
  },
  {
   "cell_type": "code",
   "execution_count": 2,
   "metadata": {},
   "outputs": [],
   "source": [
    "df = pd.read_csv('dadosCompletos.csv')"
   ]
  },
  {
   "cell_type": "code",
   "execution_count": 61,
   "metadata": {},
   "outputs": [],
   "source": [
    "df.loc[0, 'adversario'] = 0\n",
    "df['adversario'] = df['adversario'].astype(int)\n",
    "df.sort_values(by=['adversario'], ignore_index=True, inplace=True)\n",
    "df.loc[0, 'adversario'] = 'humano'\n",
    "df['vencedor'].replace({'jogador': 'oponente'}, inplace=True)"
   ]
  },
  {
   "cell_type": "code",
   "execution_count": 62,
   "metadata": {},
   "outputs": [
    {
     "data": {
      "text/html": [
       "<div>\n",
       "<style scoped>\n",
       "    .dataframe tbody tr th:only-of-type {\n",
       "        vertical-align: middle;\n",
       "    }\n",
       "\n",
       "    .dataframe tbody tr th {\n",
       "        vertical-align: top;\n",
       "    }\n",
       "\n",
       "    .dataframe thead th {\n",
       "        text-align: right;\n",
       "    }\n",
       "</style>\n",
       "<table border=\"1\" class=\"dataframe\">\n",
       "  <thead>\n",
       "    <tr style=\"text-align: right;\">\n",
       "      <th></th>\n",
       "      <th>corIa</th>\n",
       "      <th>vencedor</th>\n",
       "      <th>adversario</th>\n",
       "      <th>qtdLances</th>\n",
       "      <th>lancesIdeais</th>\n",
       "      <th>mediaNos</th>\n",
       "      <th>mediaTempo</th>\n",
       "      <th>medianaTempo</th>\n",
       "      <th>stdTempo</th>\n",
       "    </tr>\n",
       "  </thead>\n",
       "  <tbody>\n",
       "    <tr>\n",
       "      <th>0</th>\n",
       "      <td>pretas</td>\n",
       "      <td>ia</td>\n",
       "      <td>humano</td>\n",
       "      <td>39</td>\n",
       "      <td>29</td>\n",
       "      <td>303391</td>\n",
       "      <td>101.346921</td>\n",
       "      <td>79.671114</td>\n",
       "      <td>109.249080</td>\n",
       "    </tr>\n",
       "    <tr>\n",
       "      <th>1</th>\n",
       "      <td>brancas</td>\n",
       "      <td>ia</td>\n",
       "      <td>400</td>\n",
       "      <td>46</td>\n",
       "      <td>32</td>\n",
       "      <td>48221</td>\n",
       "      <td>11.021502</td>\n",
       "      <td>7.685231</td>\n",
       "      <td>11.269173</td>\n",
       "    </tr>\n",
       "    <tr>\n",
       "      <th>2</th>\n",
       "      <td>pretas</td>\n",
       "      <td>ia</td>\n",
       "      <td>400</td>\n",
       "      <td>33</td>\n",
       "      <td>26</td>\n",
       "      <td>103990</td>\n",
       "      <td>42.840178</td>\n",
       "      <td>10.867545</td>\n",
       "      <td>90.309308</td>\n",
       "    </tr>\n",
       "    <tr>\n",
       "      <th>3</th>\n",
       "      <td>brancas</td>\n",
       "      <td>ia</td>\n",
       "      <td>400</td>\n",
       "      <td>19</td>\n",
       "      <td>15</td>\n",
       "      <td>35855</td>\n",
       "      <td>8.416498</td>\n",
       "      <td>5.701564</td>\n",
       "      <td>9.467896</td>\n",
       "    </tr>\n",
       "    <tr>\n",
       "      <th>4</th>\n",
       "      <td>pretas</td>\n",
       "      <td>ia</td>\n",
       "      <td>400</td>\n",
       "      <td>39</td>\n",
       "      <td>28</td>\n",
       "      <td>57620</td>\n",
       "      <td>13.320453</td>\n",
       "      <td>10.553781</td>\n",
       "      <td>12.964498</td>\n",
       "    </tr>\n",
       "    <tr>\n",
       "      <th>5</th>\n",
       "      <td>brancas</td>\n",
       "      <td>ia</td>\n",
       "      <td>400</td>\n",
       "      <td>28</td>\n",
       "      <td>22</td>\n",
       "      <td>40457</td>\n",
       "      <td>10.295321</td>\n",
       "      <td>5.009054</td>\n",
       "      <td>14.590288</td>\n",
       "    </tr>\n",
       "    <tr>\n",
       "      <th>6</th>\n",
       "      <td>pretas</td>\n",
       "      <td>ia</td>\n",
       "      <td>400</td>\n",
       "      <td>31</td>\n",
       "      <td>23</td>\n",
       "      <td>53450</td>\n",
       "      <td>56.962129</td>\n",
       "      <td>9.171827</td>\n",
       "      <td>253.177631</td>\n",
       "    </tr>\n",
       "    <tr>\n",
       "      <th>7</th>\n",
       "      <td>brancas</td>\n",
       "      <td>oponente</td>\n",
       "      <td>700</td>\n",
       "      <td>18</td>\n",
       "      <td>11</td>\n",
       "      <td>37846</td>\n",
       "      <td>7.752883</td>\n",
       "      <td>6.844109</td>\n",
       "      <td>7.843070</td>\n",
       "    </tr>\n",
       "    <tr>\n",
       "      <th>8</th>\n",
       "      <td>pretas</td>\n",
       "      <td>ia</td>\n",
       "      <td>700</td>\n",
       "      <td>46</td>\n",
       "      <td>32</td>\n",
       "      <td>95883</td>\n",
       "      <td>23.504642</td>\n",
       "      <td>18.680655</td>\n",
       "      <td>20.802030</td>\n",
       "    </tr>\n",
       "    <tr>\n",
       "      <th>9</th>\n",
       "      <td>pretas</td>\n",
       "      <td>empate</td>\n",
       "      <td>700</td>\n",
       "      <td>68</td>\n",
       "      <td>53</td>\n",
       "      <td>38353</td>\n",
       "      <td>8.546708</td>\n",
       "      <td>1.194495</td>\n",
       "      <td>13.733441</td>\n",
       "    </tr>\n",
       "    <tr>\n",
       "      <th>10</th>\n",
       "      <td>brancas</td>\n",
       "      <td>ia</td>\n",
       "      <td>700</td>\n",
       "      <td>52</td>\n",
       "      <td>36</td>\n",
       "      <td>111058</td>\n",
       "      <td>27.483206</td>\n",
       "      <td>27.474176</td>\n",
       "      <td>19.947239</td>\n",
       "    </tr>\n",
       "    <tr>\n",
       "      <th>11</th>\n",
       "      <td>pretas</td>\n",
       "      <td>ia</td>\n",
       "      <td>700</td>\n",
       "      <td>39</td>\n",
       "      <td>31</td>\n",
       "      <td>37832</td>\n",
       "      <td>8.716901</td>\n",
       "      <td>4.655684</td>\n",
       "      <td>10.757041</td>\n",
       "    </tr>\n",
       "    <tr>\n",
       "      <th>12</th>\n",
       "      <td>brancas</td>\n",
       "      <td>ia</td>\n",
       "      <td>700</td>\n",
       "      <td>38</td>\n",
       "      <td>30</td>\n",
       "      <td>72974</td>\n",
       "      <td>20.142388</td>\n",
       "      <td>10.094226</td>\n",
       "      <td>27.410832</td>\n",
       "    </tr>\n",
       "    <tr>\n",
       "      <th>13</th>\n",
       "      <td>brancas</td>\n",
       "      <td>ia</td>\n",
       "      <td>1000</td>\n",
       "      <td>85</td>\n",
       "      <td>64</td>\n",
       "      <td>27614</td>\n",
       "      <td>7.845697</td>\n",
       "      <td>3.230299</td>\n",
       "      <td>12.741053</td>\n",
       "    </tr>\n",
       "    <tr>\n",
       "      <th>14</th>\n",
       "      <td>pretas</td>\n",
       "      <td>empate</td>\n",
       "      <td>1000</td>\n",
       "      <td>146</td>\n",
       "      <td>118</td>\n",
       "      <td>15762</td>\n",
       "      <td>4.682661</td>\n",
       "      <td>1.040694</td>\n",
       "      <td>15.801410</td>\n",
       "    </tr>\n",
       "    <tr>\n",
       "      <th>15</th>\n",
       "      <td>brancas</td>\n",
       "      <td>ia</td>\n",
       "      <td>1000</td>\n",
       "      <td>39</td>\n",
       "      <td>26</td>\n",
       "      <td>66794</td>\n",
       "      <td>16.724433</td>\n",
       "      <td>9.246063</td>\n",
       "      <td>17.305361</td>\n",
       "    </tr>\n",
       "    <tr>\n",
       "      <th>16</th>\n",
       "      <td>pretas</td>\n",
       "      <td>ia</td>\n",
       "      <td>1000</td>\n",
       "      <td>34</td>\n",
       "      <td>22</td>\n",
       "      <td>66828</td>\n",
       "      <td>22.139109</td>\n",
       "      <td>11.023168</td>\n",
       "      <td>21.592595</td>\n",
       "    </tr>\n",
       "    <tr>\n",
       "      <th>17</th>\n",
       "      <td>brancas</td>\n",
       "      <td>ia</td>\n",
       "      <td>1000</td>\n",
       "      <td>50</td>\n",
       "      <td>33</td>\n",
       "      <td>31349</td>\n",
       "      <td>7.007251</td>\n",
       "      <td>3.808393</td>\n",
       "      <td>7.888361</td>\n",
       "    </tr>\n",
       "    <tr>\n",
       "      <th>18</th>\n",
       "      <td>pretas</td>\n",
       "      <td>empate</td>\n",
       "      <td>1000</td>\n",
       "      <td>52</td>\n",
       "      <td>34</td>\n",
       "      <td>83440</td>\n",
       "      <td>19.138822</td>\n",
       "      <td>11.250039</td>\n",
       "      <td>16.776680</td>\n",
       "    </tr>\n",
       "    <tr>\n",
       "      <th>19</th>\n",
       "      <td>brancas</td>\n",
       "      <td>empate</td>\n",
       "      <td>1300</td>\n",
       "      <td>80</td>\n",
       "      <td>55</td>\n",
       "      <td>19943</td>\n",
       "      <td>4.433772</td>\n",
       "      <td>1.248371</td>\n",
       "      <td>8.074574</td>\n",
       "    </tr>\n",
       "    <tr>\n",
       "      <th>20</th>\n",
       "      <td>pretas</td>\n",
       "      <td>ia</td>\n",
       "      <td>1300</td>\n",
       "      <td>91</td>\n",
       "      <td>54</td>\n",
       "      <td>64211</td>\n",
       "      <td>15.162727</td>\n",
       "      <td>4.261765</td>\n",
       "      <td>27.053838</td>\n",
       "    </tr>\n",
       "    <tr>\n",
       "      <th>21</th>\n",
       "      <td>brancas</td>\n",
       "      <td>ia</td>\n",
       "      <td>1300</td>\n",
       "      <td>35</td>\n",
       "      <td>28</td>\n",
       "      <td>36541</td>\n",
       "      <td>8.099569</td>\n",
       "      <td>6.230019</td>\n",
       "      <td>6.165160</td>\n",
       "    </tr>\n",
       "    <tr>\n",
       "      <th>22</th>\n",
       "      <td>brancas</td>\n",
       "      <td>ia</td>\n",
       "      <td>1300</td>\n",
       "      <td>24</td>\n",
       "      <td>21</td>\n",
       "      <td>54386</td>\n",
       "      <td>17.710085</td>\n",
       "      <td>13.280841</td>\n",
       "      <td>11.997561</td>\n",
       "    </tr>\n",
       "    <tr>\n",
       "      <th>23</th>\n",
       "      <td>pretas</td>\n",
       "      <td>empate</td>\n",
       "      <td>1300</td>\n",
       "      <td>37</td>\n",
       "      <td>29</td>\n",
       "      <td>33622</td>\n",
       "      <td>7.200487</td>\n",
       "      <td>4.301122</td>\n",
       "      <td>10.163731</td>\n",
       "    </tr>\n",
       "    <tr>\n",
       "      <th>24</th>\n",
       "      <td>pretas</td>\n",
       "      <td>ia</td>\n",
       "      <td>1300</td>\n",
       "      <td>77</td>\n",
       "      <td>55</td>\n",
       "      <td>37737</td>\n",
       "      <td>10.663144</td>\n",
       "      <td>3.467500</td>\n",
       "      <td>23.289129</td>\n",
       "    </tr>\n",
       "    <tr>\n",
       "      <th>25</th>\n",
       "      <td>brancas</td>\n",
       "      <td>oponente</td>\n",
       "      <td>1600</td>\n",
       "      <td>25</td>\n",
       "      <td>13</td>\n",
       "      <td>65576</td>\n",
       "      <td>23.353646</td>\n",
       "      <td>15.982275</td>\n",
       "      <td>23.869031</td>\n",
       "    </tr>\n",
       "    <tr>\n",
       "      <th>26</th>\n",
       "      <td>brancas</td>\n",
       "      <td>ia</td>\n",
       "      <td>1600</td>\n",
       "      <td>34</td>\n",
       "      <td>29</td>\n",
       "      <td>19788</td>\n",
       "      <td>13.418959</td>\n",
       "      <td>8.751935</td>\n",
       "      <td>11.983527</td>\n",
       "    </tr>\n",
       "    <tr>\n",
       "      <th>27</th>\n",
       "      <td>pretas</td>\n",
       "      <td>empate</td>\n",
       "      <td>1600</td>\n",
       "      <td>69</td>\n",
       "      <td>50</td>\n",
       "      <td>20376</td>\n",
       "      <td>9.948708</td>\n",
       "      <td>5.102918</td>\n",
       "      <td>10.927305</td>\n",
       "    </tr>\n",
       "    <tr>\n",
       "      <th>28</th>\n",
       "      <td>pretas</td>\n",
       "      <td>ia</td>\n",
       "      <td>1600</td>\n",
       "      <td>38</td>\n",
       "      <td>28</td>\n",
       "      <td>45105</td>\n",
       "      <td>19.744660</td>\n",
       "      <td>13.496306</td>\n",
       "      <td>24.465265</td>\n",
       "    </tr>\n",
       "    <tr>\n",
       "      <th>29</th>\n",
       "      <td>pretas</td>\n",
       "      <td>empate</td>\n",
       "      <td>2000</td>\n",
       "      <td>122</td>\n",
       "      <td>100</td>\n",
       "      <td>35408</td>\n",
       "      <td>8.865909</td>\n",
       "      <td>0.991577</td>\n",
       "      <td>14.196906</td>\n",
       "    </tr>\n",
       "    <tr>\n",
       "      <th>30</th>\n",
       "      <td>pretas</td>\n",
       "      <td>ia</td>\n",
       "      <td>2000</td>\n",
       "      <td>69</td>\n",
       "      <td>39</td>\n",
       "      <td>58868</td>\n",
       "      <td>21.743169</td>\n",
       "      <td>10.480742</td>\n",
       "      <td>28.743455</td>\n",
       "    </tr>\n",
       "    <tr>\n",
       "      <th>31</th>\n",
       "      <td>brancas</td>\n",
       "      <td>empate</td>\n",
       "      <td>2000</td>\n",
       "      <td>86</td>\n",
       "      <td>53</td>\n",
       "      <td>23836</td>\n",
       "      <td>10.014415</td>\n",
       "      <td>3.532276</td>\n",
       "      <td>17.910608</td>\n",
       "    </tr>\n",
       "    <tr>\n",
       "      <th>32</th>\n",
       "      <td>brancas</td>\n",
       "      <td>oponente</td>\n",
       "      <td>2000</td>\n",
       "      <td>48</td>\n",
       "      <td>34</td>\n",
       "      <td>58408</td>\n",
       "      <td>22.095149</td>\n",
       "      <td>14.565793</td>\n",
       "      <td>27.819959</td>\n",
       "    </tr>\n",
       "    <tr>\n",
       "      <th>33</th>\n",
       "      <td>pretas</td>\n",
       "      <td>oponente</td>\n",
       "      <td>2500</td>\n",
       "      <td>68</td>\n",
       "      <td>53</td>\n",
       "      <td>37194</td>\n",
       "      <td>12.895101</td>\n",
       "      <td>7.365587</td>\n",
       "      <td>19.436221</td>\n",
       "    </tr>\n",
       "    <tr>\n",
       "      <th>34</th>\n",
       "      <td>brancas</td>\n",
       "      <td>ia</td>\n",
       "      <td>2500</td>\n",
       "      <td>49</td>\n",
       "      <td>33</td>\n",
       "      <td>43007</td>\n",
       "      <td>11.255067</td>\n",
       "      <td>6.252083</td>\n",
       "      <td>12.702246</td>\n",
       "    </tr>\n",
       "    <tr>\n",
       "      <th>35</th>\n",
       "      <td>pretas</td>\n",
       "      <td>oponente</td>\n",
       "      <td>2500</td>\n",
       "      <td>132</td>\n",
       "      <td>108</td>\n",
       "      <td>39747</td>\n",
       "      <td>11.744302</td>\n",
       "      <td>1.037283</td>\n",
       "      <td>19.892693</td>\n",
       "    </tr>\n",
       "    <tr>\n",
       "      <th>36</th>\n",
       "      <td>brancas</td>\n",
       "      <td>oponente</td>\n",
       "      <td>2500</td>\n",
       "      <td>113</td>\n",
       "      <td>82</td>\n",
       "      <td>26697</td>\n",
       "      <td>9.706591</td>\n",
       "      <td>5.130742</td>\n",
       "      <td>13.651102</td>\n",
       "    </tr>\n",
       "  </tbody>\n",
       "</table>\n",
       "</div>"
      ],
      "text/plain": [
       "      corIa  vencedor adversario  qtdLances  lancesIdeais  mediaNos  \\\n",
       "0    pretas        ia     humano         39            29    303391   \n",
       "1   brancas        ia        400         46            32     48221   \n",
       "2    pretas        ia        400         33            26    103990   \n",
       "3   brancas        ia        400         19            15     35855   \n",
       "4    pretas        ia        400         39            28     57620   \n",
       "5   brancas        ia        400         28            22     40457   \n",
       "6    pretas        ia        400         31            23     53450   \n",
       "7   brancas  oponente        700         18            11     37846   \n",
       "8    pretas        ia        700         46            32     95883   \n",
       "9    pretas    empate        700         68            53     38353   \n",
       "10  brancas        ia        700         52            36    111058   \n",
       "11   pretas        ia        700         39            31     37832   \n",
       "12  brancas        ia        700         38            30     72974   \n",
       "13  brancas        ia       1000         85            64     27614   \n",
       "14   pretas    empate       1000        146           118     15762   \n",
       "15  brancas        ia       1000         39            26     66794   \n",
       "16   pretas        ia       1000         34            22     66828   \n",
       "17  brancas        ia       1000         50            33     31349   \n",
       "18   pretas    empate       1000         52            34     83440   \n",
       "19  brancas    empate       1300         80            55     19943   \n",
       "20   pretas        ia       1300         91            54     64211   \n",
       "21  brancas        ia       1300         35            28     36541   \n",
       "22  brancas        ia       1300         24            21     54386   \n",
       "23   pretas    empate       1300         37            29     33622   \n",
       "24   pretas        ia       1300         77            55     37737   \n",
       "25  brancas  oponente       1600         25            13     65576   \n",
       "26  brancas        ia       1600         34            29     19788   \n",
       "27   pretas    empate       1600         69            50     20376   \n",
       "28   pretas        ia       1600         38            28     45105   \n",
       "29   pretas    empate       2000        122           100     35408   \n",
       "30   pretas        ia       2000         69            39     58868   \n",
       "31  brancas    empate       2000         86            53     23836   \n",
       "32  brancas  oponente       2000         48            34     58408   \n",
       "33   pretas  oponente       2500         68            53     37194   \n",
       "34  brancas        ia       2500         49            33     43007   \n",
       "35   pretas  oponente       2500        132           108     39747   \n",
       "36  brancas  oponente       2500        113            82     26697   \n",
       "\n",
       "    mediaTempo  medianaTempo    stdTempo  \n",
       "0   101.346921     79.671114  109.249080  \n",
       "1    11.021502      7.685231   11.269173  \n",
       "2    42.840178     10.867545   90.309308  \n",
       "3     8.416498      5.701564    9.467896  \n",
       "4    13.320453     10.553781   12.964498  \n",
       "5    10.295321      5.009054   14.590288  \n",
       "6    56.962129      9.171827  253.177631  \n",
       "7     7.752883      6.844109    7.843070  \n",
       "8    23.504642     18.680655   20.802030  \n",
       "9     8.546708      1.194495   13.733441  \n",
       "10   27.483206     27.474176   19.947239  \n",
       "11    8.716901      4.655684   10.757041  \n",
       "12   20.142388     10.094226   27.410832  \n",
       "13    7.845697      3.230299   12.741053  \n",
       "14    4.682661      1.040694   15.801410  \n",
       "15   16.724433      9.246063   17.305361  \n",
       "16   22.139109     11.023168   21.592595  \n",
       "17    7.007251      3.808393    7.888361  \n",
       "18   19.138822     11.250039   16.776680  \n",
       "19    4.433772      1.248371    8.074574  \n",
       "20   15.162727      4.261765   27.053838  \n",
       "21    8.099569      6.230019    6.165160  \n",
       "22   17.710085     13.280841   11.997561  \n",
       "23    7.200487      4.301122   10.163731  \n",
       "24   10.663144      3.467500   23.289129  \n",
       "25   23.353646     15.982275   23.869031  \n",
       "26   13.418959      8.751935   11.983527  \n",
       "27    9.948708      5.102918   10.927305  \n",
       "28   19.744660     13.496306   24.465265  \n",
       "29    8.865909      0.991577   14.196906  \n",
       "30   21.743169     10.480742   28.743455  \n",
       "31   10.014415      3.532276   17.910608  \n",
       "32   22.095149     14.565793   27.819959  \n",
       "33   12.895101      7.365587   19.436221  \n",
       "34   11.255067      6.252083   12.702246  \n",
       "35   11.744302      1.037283   19.892693  \n",
       "36    9.706591      5.130742   13.651102  "
      ]
     },
     "execution_count": 62,
     "metadata": {},
     "output_type": "execute_result"
    }
   ],
   "source": [
    "df"
   ]
  },
  {
   "cell_type": "code",
   "execution_count": 63,
   "metadata": {},
   "outputs": [
    {
     "data": {
      "text/plain": [
       "(55382.89189189189, 40457.0, 47900.51115407143)"
      ]
     },
     "execution_count": 63,
     "metadata": {},
     "output_type": "execute_result"
    }
   ],
   "source": [
    "df['mediaNos'].mean(), df['mediaNos'].median(), df['mediaNos'].std()"
   ]
  },
  {
   "cell_type": "code",
   "execution_count": 96,
   "metadata": {},
   "outputs": [
    {
     "data": {
      "text/plain": [
       "(17.72819361415233, 27.18835945818479)"
      ]
     },
     "execution_count": 96,
     "metadata": {},
     "output_type": "execute_result"
    }
   ],
   "source": [
    "df['mediaTempo'].mean(), df['stdTempo'].mean()"
   ]
  },
  {
   "cell_type": "code",
   "execution_count": 97,
   "metadata": {},
   "outputs": [
    {
     "data": {
      "text/plain": [
       "17.53029540330614"
      ]
     },
     "execution_count": 97,
     "metadata": {},
     "output_type": "execute_result"
    }
   ],
   "source": [
    "df['mediaTempo'].std()"
   ]
  },
  {
   "cell_type": "code",
   "execution_count": 95,
   "metadata": {},
   "outputs": [
    {
     "data": {
      "text/plain": [
       "(101.34692138891954, 4.433772140741349)"
      ]
     },
     "execution_count": 95,
     "metadata": {},
     "output_type": "execute_result"
    }
   ],
   "source": [
    "df['mediaTempo'].max(), df['mediaTempo'].min()"
   ]
  },
  {
   "cell_type": "code",
   "execution_count": 109,
   "metadata": {},
   "outputs": [
    {
     "data": {
      "text/plain": [
       "<Axes: xlabel='mediaTempo'>"
      ]
     },
     "execution_count": 109,
     "metadata": {},
     "output_type": "execute_result"
    },
    {
     "data": {
      "image/png": "[encoded data removed]",
      "text/plain": [
       "<Figure size 640x480 with 1 Axes>"
      ]
     },
     "metadata": {},
     "output_type": "display_data"
    }
   ],
   "source": [
    "sns.boxplot(x=\"mediaTempo\", data=df, width=0.2)"
   ]
  },
  {
   "cell_type": "code",
   "execution_count": 94,
   "metadata": {},
   "outputs": [
    {
     "data": {
      "text/plain": [
       "(56.729729729729726, 31.955393083909126)"
      ]
     },
     "execution_count": 94,
     "metadata": {},
     "output_type": "execute_result"
    }
   ],
   "source": [
    "df['qtdLances'].mean(), df['qtdLances'].std()"
   ]
  },
  {
   "cell_type": "code",
   "execution_count": 67,
   "metadata": {},
   "outputs": [
    {
     "data": {
      "text/plain": [
       "(146, 18)"
      ]
     },
     "execution_count": 67,
     "metadata": {},
     "output_type": "execute_result"
    }
   ],
   "source": [
    "df['qtdLances'].max(), df['qtdLances'].min()"
   ]
  },
  {
   "cell_type": "code",
   "execution_count": 68,
   "metadata": {},
   "outputs": [
    {
     "data": {
      "text/plain": [
       "41.32432432432432"
      ]
     },
     "execution_count": 68,
     "metadata": {},
     "output_type": "execute_result"
    }
   ],
   "source": [
    "df['lancesIdeais'].mean()"
   ]
  },
  {
   "cell_type": "code",
   "execution_count": 92,
   "metadata": {},
   "outputs": [
    {
     "data": {
      "text/plain": [
       "vencedor\n",
       "ia          62.2%\n",
       "empate      21.6%\n",
       "oponente    16.2%\n",
       "Name: proportion, dtype: object"
      ]
     },
     "execution_count": 92,
     "metadata": {},
     "output_type": "execute_result"
    }
   ],
   "source": [
    "df['vencedor'].value_counts(normalize=True).mul(100).round(1).astype(str) + '%' "
   ]
  },
  {
   "cell_type": "code",
   "execution_count": 93,
   "metadata": {},
   "outputs": [
    {
     "data": {
      "image/png": "[encoded data removed]",
      "text/plain": [
       "<Figure size 640x480 with 1 Axes>"
      ]
     },
     "metadata": {},
     "output_type": "display_data"
    }
   ],
   "source": [
    "sns.countplot(x='adversario', hue='vencedor', data=df, palette='Set1');"
   ]
  },
  {
   "cell_type": "code",
   "execution_count": 70,
   "metadata": {},
   "outputs": [
    {
     "data": {
      "text/plain": [
       "adversario  vencedor\n",
       "400         ia          6\n",
       "700         ia          4\n",
       "            empate      1\n",
       "            oponente    1\n",
       "1000        ia          4\n",
       "            empate      2\n",
       "1300        ia          4\n",
       "            empate      2\n",
       "1600        ia          2\n",
       "            empate      1\n",
       "            oponente    1\n",
       "2000        empate      2\n",
       "            ia          1\n",
       "            oponente    1\n",
       "2500        oponente    3\n",
       "            ia          1\n",
       "humano      ia          1\n",
       "Name: count, dtype: int64"
      ]
     },
     "execution_count": 70,
     "metadata": {},
     "output_type": "execute_result"
    }
   ],
   "source": [
    "df.groupby(['adversario']).vencedor.value_counts()"
   ]
  },
  {
   "cell_type": "code",
   "execution_count": 71,
   "metadata": {},
   "outputs": [
    {
     "data": {
      "text/plain": [
       "corIa    vencedor\n",
       "brancas  ia          12\n",
       "         oponente     4\n",
       "         empate       2\n",
       "pretas   ia          11\n",
       "         empate       6\n",
       "         oponente     2\n",
       "Name: count, dtype: int64"
      ]
     },
     "execution_count": 71,
     "metadata": {},
     "output_type": "execute_result"
    }
   ],
   "source": [
    "df.groupby(['corIa']).vencedor.value_counts()"
   ]
  },
  {
   "cell_type": "code",
   "execution_count": 72,
   "metadata": {},
   "outputs": [
    {
     "data": {
      "text/plain": [
       "(adversario\n",
       " 400       32.666667\n",
       " 700       43.500000\n",
       " 1000      67.666667\n",
       " 1300      57.333333\n",
       " 1600      41.500000\n",
       " 2000      81.250000\n",
       " 2500      90.500000\n",
       " humano    39.000000\n",
       " Name: qtdLances, dtype: float64,\n",
       " adversario\n",
       " 400       24.333333\n",
       " 700       32.166667\n",
       " 1000      49.500000\n",
       " 1300      40.333333\n",
       " 1600      30.000000\n",
       " 2000      56.500000\n",
       " 2500      69.000000\n",
       " humano    29.000000\n",
       " Name: lancesIdeais, dtype: float64)"
      ]
     },
     "execution_count": 72,
     "metadata": {},
     "output_type": "execute_result"
    }
   ],
   "source": [
    "df.groupby(['adversario']).qtdLances.mean(), df.groupby(['adversario']).lancesIdeais.mean()"
   ]
  },
  {
   "cell_type": "code",
   "execution_count": null,
   "metadata": {},
   "outputs": [],
   "source": []
  }
 ],
 "metadata": {
  "kernelspec": {
   "display_name": "Python 3",
   "language": "python",
   "name": "python3"
  },
  "language_info": {
   "codemirror_mode": {
    "name": "ipython",
    "version": 3
   },
   "file_extension": ".py",
   "mimetype": "text/x-python",
   "name": "python",
   "nbconvert_exporter": "python",
   "pygments_lexer": "ipython3",
   "version": "3.10.10"
  },
  "orig_nbformat": 4
 },
 "nbformat": 4,
 "nbformat_minor": 2
}
